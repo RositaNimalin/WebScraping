{
 "cells": [
  {
   "cell_type": "markdown",
   "metadata": {},
   "source": [
    "# Web Scraping"
   ]
  },
  {
   "cell_type": "code",
   "execution_count": 1,
   "metadata": {},
   "outputs": [],
   "source": [
    "import requests\n",
    "import lxml\n",
    "import bs4\n",
    "import pandas as pd\n",
    "import time"
   ]
  },
  {
   "cell_type": "code",
   "execution_count": 2,
   "metadata": {},
   "outputs": [],
   "source": [
    "uRl = requests.get(\"http://books.toscrape.com/catalogue/category/books/travel_2/index.html\") #saving the link to the var uRl"
   ]
  },
  {
   "cell_type": "code",
   "execution_count": 3,
   "metadata": {},
   "outputs": [],
   "source": [
    "soup = bs4.BeautifulSoup(uRl.text)"
   ]
  },
  {
   "cell_type": "code",
   "execution_count": 4,
   "metadata": {},
   "outputs": [
    {
     "data": {
      "text/plain": [
       "1"
      ]
     },
     "execution_count": 4,
     "metadata": {},
     "output_type": "execute_result"
    }
   ],
   "source": [
    "side_cat = soup.select('.side_categories') #scrapes the menubar\n",
    "len(side_cat)"
   ]
  },
  {
   "cell_type": "code",
   "execution_count": 5,
   "metadata": {},
   "outputs": [],
   "source": [
    "list_cat = side_cat[0].select('ul') #gets the list of values in the side menubar\n"
   ]
  },
  {
   "cell_type": "code",
   "execution_count": 6,
   "metadata": {},
   "outputs": [
    {
     "data": {
      "text/plain": [
       "51"
      ]
     },
     "execution_count": 6,
     "metadata": {},
     "output_type": "execute_result"
    }
   ],
   "source": [
    "topics = list_cat[0].select('li')[0].select('a')\n",
    "len(topics)"
   ]
  },
  {
   "cell_type": "code",
   "execution_count": 7,
   "metadata": {},
   "outputs": [],
   "source": [
    "topic_list = []                                     #creating list of text values from the topics\n",
    "for i in range(len(topics)):\n",
    "    topic_list.append(topics[i].getText())\n",
    "\n"
   ]
  },
  {
   "cell_type": "code",
   "execution_count": 8,
   "metadata": {},
   "outputs": [],
   "source": [
    "\n",
    "def Split_books(Books_list):\n",
    "    topics = []\n",
    "    for i in Books_list:\n",
    "        i = i.strip().split()\n",
    "    #    print(len(i))\n",
    "        if len(i)>1:\n",
    "            i = '-'.join(i)\n",
    "        topics.append(''.join(i).lower())\n",
    "    return topics\n",
    "        "
   ]
  },
  {
   "cell_type": "code",
   "execution_count": 9,
   "metadata": {},
   "outputs": [],
   "source": [
    "Books_list = Split_books(topic_list)"
   ]
  },
  {
   "cell_type": "code",
   "execution_count": 10,
   "metadata": {},
   "outputs": [
    {
     "data": {
      "text/plain": [
       "['books',\n",
       " 'travel',\n",
       " 'mystery',\n",
       " 'historical-fiction',\n",
       " 'sequential-art',\n",
       " 'classics',\n",
       " 'philosophy',\n",
       " 'romance',\n",
       " 'womens-fiction',\n",
       " 'fiction',\n",
       " 'childrens',\n",
       " 'religion',\n",
       " 'nonfiction',\n",
       " 'music',\n",
       " 'default',\n",
       " 'science-fiction',\n",
       " 'sports-and-games',\n",
       " 'add-a-comment',\n",
       " 'fantasy',\n",
       " 'new-adult',\n",
       " 'young-adult',\n",
       " 'science',\n",
       " 'poetry',\n",
       " 'paranormal',\n",
       " 'art',\n",
       " 'psychology',\n",
       " 'autobiography',\n",
       " 'parenting',\n",
       " 'adult-fiction',\n",
       " 'humor',\n",
       " 'horror',\n",
       " 'history',\n",
       " 'food-and-drink',\n",
       " 'christian-fiction',\n",
       " 'business',\n",
       " 'biography',\n",
       " 'thriller',\n",
       " 'contemporary',\n",
       " 'spirituality',\n",
       " 'academic',\n",
       " 'self-help',\n",
       " 'historical',\n",
       " 'christian',\n",
       " 'suspense',\n",
       " 'short-stories',\n",
       " 'novels',\n",
       " 'health',\n",
       " 'politics',\n",
       " 'cultural',\n",
       " 'erotica',\n",
       " 'crime']"
      ]
     },
     "execution_count": 10,
     "metadata": {},
     "output_type": "execute_result"
    }
   ],
   "source": [
    "Books_list                                        #defined list"
   ]
  },
  {
   "cell_type": "code",
   "execution_count": 11,
   "metadata": {},
   "outputs": [],
   "source": [
    "base_url = \"http://books.toscrape.com/catalogue/category/books/{}_{}/index.html\""
   ]
  },
  {
   "cell_type": "code",
   "execution_count": 12,
   "metadata": {},
   "outputs": [
    {
     "data": {
      "text/plain": [
       "requests.models.Response"
      ]
     },
     "execution_count": 12,
     "metadata": {},
     "output_type": "execute_result"
    }
   ],
   "source": [
    "request = requests.get(base_url.format(Books_list[1],2))\n",
    "type(request)"
   ]
  },
  {
   "cell_type": "code",
   "execution_count": 13,
   "metadata": {},
   "outputs": [],
   "source": [
    "soup = bs4.BeautifulSoup(request.text)"
   ]
  },
  {
   "cell_type": "code",
   "execution_count": 14,
   "metadata": {},
   "outputs": [],
   "source": [
    "class Book_Scrap:\n",
    "    def __init__(self):\n",
    "        \n",
    "        self.df = pd.DataFrame(columns=['Category','Names'])\n",
    "    def books_name(self,soup):\n",
    "        \n",
    "        self.soup = soup\n",
    "        Books = self.soup.select('.product_pod')\n",
    "        \n",
    "        Books_list = []\n",
    "        for book in Books:\n",
    "            book = book.select('a')\n",
    "           \n",
    "            Books_list.append(book[1].getText())\n",
    "        return Books_list\n",
    "      \n",
    "    \n",
    "    def urls(self,base_url,cat,index):\n",
    "        self.cat = cat\n",
    "        self.index = index\n",
    "        self.base_url = base_url\n",
    "        request = requests.get(self.base_url.format(self.cat,self.index))\n",
    "        \n",
    "        soup = bs4.BeautifulSoup(request.text)\n",
    "        \n",
    "        return soup\n",
    "        \n",
    "    def Books_to_table(self,cat,Books_list):\n",
    "        self.Books_list = Books_list\n",
    "        #print(self.Books_list)\n",
    "        self.cat = cat\n",
    "        self.df = self.df.append({'Category':self.cat,'Names':self.Books_list}, ignore_index = True)\n",
    "        return self.df"
   ]
  },
  {
   "cell_type": "code",
   "execution_count": null,
   "metadata": {},
   "outputs": [],
   "source": [
    "Book = Book_Scrap()\n",
    "df = pd.DataFrame()\n",
    "start = time.time()\n",
    "\n",
    "for cat in Books_list[1:]:\n",
    "  \n",
    "    url = Book.urls(base_url,cat,Books_list.index(cat)+1)\n",
    "    Books_name = Book.books_name(url)\n",
    "    df = Book.Books_to_table(cat,Books_name)\n",
    "   \n",
    "end_time = time.time()\n",
    "elapsed_time = end_time - start\n",
    "print(\"Total time to execute = \",elapsed_time)"
   ]
  },
  {
   "cell_type": "code",
   "execution_count": null,
   "metadata": {},
   "outputs": [],
   "source": [
    "df = df.explode('Names')"
   ]
  },
  {
   "cell_type": "code",
   "execution_count": null,
   "metadata": {},
   "outputs": [],
   "source": [
    "df.head()"
   ]
  },
  {
   "cell_type": "code",
   "execution_count": null,
   "metadata": {},
   "outputs": [],
   "source": []
  }
 ],
 "metadata": {
  "kernelspec": {
   "display_name": "Python 3",
   "language": "python",
   "name": "python3"
  },
  "language_info": {
   "codemirror_mode": {
    "name": "ipython",
    "version": 3
   },
   "file_extension": ".py",
   "mimetype": "text/x-python",
   "name": "python",
   "nbconvert_exporter": "python",
   "pygments_lexer": "ipython3",
   "version": "3.7.4"
  }
 },
 "nbformat": 4,
 "nbformat_minor": 2
}
